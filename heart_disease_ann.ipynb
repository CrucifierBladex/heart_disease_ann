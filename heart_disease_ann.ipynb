{
  "nbformat": 4,
  "nbformat_minor": 0,
  "metadata": {
    "colab": {
      "name": "heart_disease_ann.ipynb",
      "provenance": []
    },
    "kernelspec": {
      "name": "python3",
      "display_name": "Python 3"
    }
  },
  "cells": [
    {
      "cell_type": "code",
      "metadata": {
        "id": "LUr8ExNDjnL4",
        "colab_type": "code",
        "colab": {}
      },
      "source": [
        "import numpy as np\n",
        "import pandas as pd\n"
      ],
      "execution_count": 47,
      "outputs": []
    },
    {
      "cell_type": "code",
      "metadata": {
        "id": "x9eQTKURlKrR",
        "colab_type": "code",
        "colab": {}
      },
      "source": [
        "df = pd.read_csv('/content/heart.csv')"
      ],
      "execution_count": 48,
      "outputs": []
    },
    {
      "cell_type": "code",
      "metadata": {
        "id": "9ptSHY9BlXre",
        "colab_type": "code",
        "colab": {
          "base_uri": "https://localhost:8080/",
          "height": 204
        },
        "outputId": "0f5cfc36-0e28-40da-8a97-000581f9386c"
      },
      "source": [
        "df.head()"
      ],
      "execution_count": 49,
      "outputs": [
        {
          "output_type": "execute_result",
          "data": {
            "text/html": [
              "<div>\n",
              "<style scoped>\n",
              "    .dataframe tbody tr th:only-of-type {\n",
              "        vertical-align: middle;\n",
              "    }\n",
              "\n",
              "    .dataframe tbody tr th {\n",
              "        vertical-align: top;\n",
              "    }\n",
              "\n",
              "    .dataframe thead th {\n",
              "        text-align: right;\n",
              "    }\n",
              "</style>\n",
              "<table border=\"1\" class=\"dataframe\">\n",
              "  <thead>\n",
              "    <tr style=\"text-align: right;\">\n",
              "      <th></th>\n",
              "      <th>age</th>\n",
              "      <th>sex</th>\n",
              "      <th>cp</th>\n",
              "      <th>trestbps</th>\n",
              "      <th>chol</th>\n",
              "      <th>fbs</th>\n",
              "      <th>restecg</th>\n",
              "      <th>thalach</th>\n",
              "      <th>exang</th>\n",
              "      <th>oldpeak</th>\n",
              "      <th>slope</th>\n",
              "      <th>ca</th>\n",
              "      <th>thal</th>\n",
              "      <th>target</th>\n",
              "    </tr>\n",
              "  </thead>\n",
              "  <tbody>\n",
              "    <tr>\n",
              "      <th>0</th>\n",
              "      <td>63</td>\n",
              "      <td>1</td>\n",
              "      <td>3</td>\n",
              "      <td>145</td>\n",
              "      <td>233</td>\n",
              "      <td>1</td>\n",
              "      <td>0</td>\n",
              "      <td>150</td>\n",
              "      <td>0</td>\n",
              "      <td>2.3</td>\n",
              "      <td>0</td>\n",
              "      <td>0</td>\n",
              "      <td>1</td>\n",
              "      <td>1</td>\n",
              "    </tr>\n",
              "    <tr>\n",
              "      <th>1</th>\n",
              "      <td>37</td>\n",
              "      <td>1</td>\n",
              "      <td>2</td>\n",
              "      <td>130</td>\n",
              "      <td>250</td>\n",
              "      <td>0</td>\n",
              "      <td>1</td>\n",
              "      <td>187</td>\n",
              "      <td>0</td>\n",
              "      <td>3.5</td>\n",
              "      <td>0</td>\n",
              "      <td>0</td>\n",
              "      <td>2</td>\n",
              "      <td>1</td>\n",
              "    </tr>\n",
              "    <tr>\n",
              "      <th>2</th>\n",
              "      <td>41</td>\n",
              "      <td>0</td>\n",
              "      <td>1</td>\n",
              "      <td>130</td>\n",
              "      <td>204</td>\n",
              "      <td>0</td>\n",
              "      <td>0</td>\n",
              "      <td>172</td>\n",
              "      <td>0</td>\n",
              "      <td>1.4</td>\n",
              "      <td>2</td>\n",
              "      <td>0</td>\n",
              "      <td>2</td>\n",
              "      <td>1</td>\n",
              "    </tr>\n",
              "    <tr>\n",
              "      <th>3</th>\n",
              "      <td>56</td>\n",
              "      <td>1</td>\n",
              "      <td>1</td>\n",
              "      <td>120</td>\n",
              "      <td>236</td>\n",
              "      <td>0</td>\n",
              "      <td>1</td>\n",
              "      <td>178</td>\n",
              "      <td>0</td>\n",
              "      <td>0.8</td>\n",
              "      <td>2</td>\n",
              "      <td>0</td>\n",
              "      <td>2</td>\n",
              "      <td>1</td>\n",
              "    </tr>\n",
              "    <tr>\n",
              "      <th>4</th>\n",
              "      <td>57</td>\n",
              "      <td>0</td>\n",
              "      <td>0</td>\n",
              "      <td>120</td>\n",
              "      <td>354</td>\n",
              "      <td>0</td>\n",
              "      <td>1</td>\n",
              "      <td>163</td>\n",
              "      <td>1</td>\n",
              "      <td>0.6</td>\n",
              "      <td>2</td>\n",
              "      <td>0</td>\n",
              "      <td>2</td>\n",
              "      <td>1</td>\n",
              "    </tr>\n",
              "  </tbody>\n",
              "</table>\n",
              "</div>"
            ],
            "text/plain": [
              "   age  sex  cp  trestbps  chol  fbs  ...  exang  oldpeak  slope  ca  thal  target\n",
              "0   63    1   3       145   233    1  ...      0      2.3      0   0     1       1\n",
              "1   37    1   2       130   250    0  ...      0      3.5      0   0     2       1\n",
              "2   41    0   1       130   204    0  ...      0      1.4      2   0     2       1\n",
              "3   56    1   1       120   236    0  ...      0      0.8      2   0     2       1\n",
              "4   57    0   0       120   354    0  ...      1      0.6      2   0     2       1\n",
              "\n",
              "[5 rows x 14 columns]"
            ]
          },
          "metadata": {
            "tags": []
          },
          "execution_count": 49
        }
      ]
    },
    {
      "cell_type": "code",
      "metadata": {
        "id": "4UiBVKuzlY9V",
        "colab_type": "code",
        "colab": {
          "base_uri": "https://localhost:8080/",
          "height": 204
        },
        "outputId": "abf7d099-d94d-4add-805f-6acf51d8944b"
      },
      "source": [
        "df.head()"
      ],
      "execution_count": 50,
      "outputs": [
        {
          "output_type": "execute_result",
          "data": {
            "text/html": [
              "<div>\n",
              "<style scoped>\n",
              "    .dataframe tbody tr th:only-of-type {\n",
              "        vertical-align: middle;\n",
              "    }\n",
              "\n",
              "    .dataframe tbody tr th {\n",
              "        vertical-align: top;\n",
              "    }\n",
              "\n",
              "    .dataframe thead th {\n",
              "        text-align: right;\n",
              "    }\n",
              "</style>\n",
              "<table border=\"1\" class=\"dataframe\">\n",
              "  <thead>\n",
              "    <tr style=\"text-align: right;\">\n",
              "      <th></th>\n",
              "      <th>age</th>\n",
              "      <th>sex</th>\n",
              "      <th>cp</th>\n",
              "      <th>trestbps</th>\n",
              "      <th>chol</th>\n",
              "      <th>fbs</th>\n",
              "      <th>restecg</th>\n",
              "      <th>thalach</th>\n",
              "      <th>exang</th>\n",
              "      <th>oldpeak</th>\n",
              "      <th>slope</th>\n",
              "      <th>ca</th>\n",
              "      <th>thal</th>\n",
              "      <th>target</th>\n",
              "    </tr>\n",
              "  </thead>\n",
              "  <tbody>\n",
              "    <tr>\n",
              "      <th>0</th>\n",
              "      <td>63</td>\n",
              "      <td>1</td>\n",
              "      <td>3</td>\n",
              "      <td>145</td>\n",
              "      <td>233</td>\n",
              "      <td>1</td>\n",
              "      <td>0</td>\n",
              "      <td>150</td>\n",
              "      <td>0</td>\n",
              "      <td>2.3</td>\n",
              "      <td>0</td>\n",
              "      <td>0</td>\n",
              "      <td>1</td>\n",
              "      <td>1</td>\n",
              "    </tr>\n",
              "    <tr>\n",
              "      <th>1</th>\n",
              "      <td>37</td>\n",
              "      <td>1</td>\n",
              "      <td>2</td>\n",
              "      <td>130</td>\n",
              "      <td>250</td>\n",
              "      <td>0</td>\n",
              "      <td>1</td>\n",
              "      <td>187</td>\n",
              "      <td>0</td>\n",
              "      <td>3.5</td>\n",
              "      <td>0</td>\n",
              "      <td>0</td>\n",
              "      <td>2</td>\n",
              "      <td>1</td>\n",
              "    </tr>\n",
              "    <tr>\n",
              "      <th>2</th>\n",
              "      <td>41</td>\n",
              "      <td>0</td>\n",
              "      <td>1</td>\n",
              "      <td>130</td>\n",
              "      <td>204</td>\n",
              "      <td>0</td>\n",
              "      <td>0</td>\n",
              "      <td>172</td>\n",
              "      <td>0</td>\n",
              "      <td>1.4</td>\n",
              "      <td>2</td>\n",
              "      <td>0</td>\n",
              "      <td>2</td>\n",
              "      <td>1</td>\n",
              "    </tr>\n",
              "    <tr>\n",
              "      <th>3</th>\n",
              "      <td>56</td>\n",
              "      <td>1</td>\n",
              "      <td>1</td>\n",
              "      <td>120</td>\n",
              "      <td>236</td>\n",
              "      <td>0</td>\n",
              "      <td>1</td>\n",
              "      <td>178</td>\n",
              "      <td>0</td>\n",
              "      <td>0.8</td>\n",
              "      <td>2</td>\n",
              "      <td>0</td>\n",
              "      <td>2</td>\n",
              "      <td>1</td>\n",
              "    </tr>\n",
              "    <tr>\n",
              "      <th>4</th>\n",
              "      <td>57</td>\n",
              "      <td>0</td>\n",
              "      <td>0</td>\n",
              "      <td>120</td>\n",
              "      <td>354</td>\n",
              "      <td>0</td>\n",
              "      <td>1</td>\n",
              "      <td>163</td>\n",
              "      <td>1</td>\n",
              "      <td>0.6</td>\n",
              "      <td>2</td>\n",
              "      <td>0</td>\n",
              "      <td>2</td>\n",
              "      <td>1</td>\n",
              "    </tr>\n",
              "  </tbody>\n",
              "</table>\n",
              "</div>"
            ],
            "text/plain": [
              "   age  sex  cp  trestbps  chol  fbs  ...  exang  oldpeak  slope  ca  thal  target\n",
              "0   63    1   3       145   233    1  ...      0      2.3      0   0     1       1\n",
              "1   37    1   2       130   250    0  ...      0      3.5      0   0     2       1\n",
              "2   41    0   1       130   204    0  ...      0      1.4      2   0     2       1\n",
              "3   56    1   1       120   236    0  ...      0      0.8      2   0     2       1\n",
              "4   57    0   0       120   354    0  ...      1      0.6      2   0     2       1\n",
              "\n",
              "[5 rows x 14 columns]"
            ]
          },
          "metadata": {
            "tags": []
          },
          "execution_count": 50
        }
      ]
    },
    {
      "cell_type": "code",
      "metadata": {
        "id": "1iqomoEmllCf",
        "colab_type": "code",
        "colab": {}
      },
      "source": [
        "x = df.iloc[:,1:13].values\n"
      ],
      "execution_count": 60,
      "outputs": []
    },
    {
      "cell_type": "code",
      "metadata": {
        "id": "uiM1mCc8mI3c",
        "colab_type": "code",
        "colab": {}
      },
      "source": [
        "y = df['target'].values"
      ],
      "execution_count": 61,
      "outputs": []
    },
    {
      "cell_type": "code",
      "metadata": {
        "id": "VZynRrFRvf9I",
        "colab_type": "code",
        "colab": {}
      },
      "source": [
        "from sklearn.preprocessing import StandardScaler\n",
        "scaler = StandardScaler()\n",
        "x = scaler.fit_transform(x)\n"
      ],
      "execution_count": 62,
      "outputs": []
    },
    {
      "cell_type": "code",
      "metadata": {
        "id": "2yFAcgqsvm2u",
        "colab_type": "code",
        "colab": {}
      },
      "source": [
        "y = np.asarray(y)"
      ],
      "execution_count": 63,
      "outputs": []
    },
    {
      "cell_type": "code",
      "metadata": {
        "id": "7xQwUX4oweHd",
        "colab_type": "code",
        "colab": {
          "base_uri": "https://localhost:8080/",
          "height": 34
        },
        "outputId": "5c842038-d512-46e2-975f-c7c5f4049240"
      },
      "source": [
        "y.shape"
      ],
      "execution_count": 64,
      "outputs": [
        {
          "output_type": "execute_result",
          "data": {
            "text/plain": [
              "(303,)"
            ]
          },
          "metadata": {
            "tags": []
          },
          "execution_count": 64
        }
      ]
    },
    {
      "cell_type": "code",
      "metadata": {
        "id": "zfANHRnEwt7_",
        "colab_type": "code",
        "colab": {}
      },
      "source": [
        "from sklearn.model_selection import train_test_split\n",
        "x_train,y_train,x_test,y_test = train_test_split(x,y,test_size=0.2)"
      ],
      "execution_count": 65,
      "outputs": []
    },
    {
      "cell_type": "code",
      "metadata": {
        "id": "-HLR4vQ9wfoV",
        "colab_type": "code",
        "colab": {
          "base_uri": "https://localhost:8080/",
          "height": 136
        },
        "outputId": "9a0d0807-853f-44ec-ebdf-178f4adb0737"
      },
      "source": [
        "from sklearn.linear_model import LogisticRegression\n",
        "from xgboost import XGBClassifier\n",
        "#model = LogisticRegression()\n",
        "model = XGBClassifier()\n",
        "model.fit(x_train,x_test)"
      ],
      "execution_count": 35,
      "outputs": [
        {
          "output_type": "execute_result",
          "data": {
            "text/plain": [
              "XGBClassifier(base_score=0.5, booster='gbtree', colsample_bylevel=1,\n",
              "              colsample_bynode=1, colsample_bytree=1, gamma=0,\n",
              "              learning_rate=0.1, max_delta_step=0, max_depth=3,\n",
              "              min_child_weight=1, missing=None, n_estimators=100, n_jobs=1,\n",
              "              nthread=None, objective='binary:logistic', random_state=0,\n",
              "              reg_alpha=0, reg_lambda=1, scale_pos_weight=1, seed=None,\n",
              "              silent=None, subsample=1, verbosity=1)"
            ]
          },
          "metadata": {
            "tags": []
          },
          "execution_count": 35
        }
      ]
    },
    {
      "cell_type": "code",
      "metadata": {
        "id": "c2Ko6D5NxA1Z",
        "colab_type": "code",
        "colab": {}
      },
      "source": [
        "y_pred = model.predict(y_train)"
      ],
      "execution_count": 36,
      "outputs": []
    },
    {
      "cell_type": "code",
      "metadata": {
        "id": "K3VfF6P1xIoc",
        "colab_type": "code",
        "colab": {
          "base_uri": "https://localhost:8080/",
          "height": 34
        },
        "outputId": "50d5de89-0752-4e63-ee41-f8f0cb562fa2"
      },
      "source": [
        "y_pred[0]"
      ],
      "execution_count": 37,
      "outputs": [
        {
          "output_type": "execute_result",
          "data": {
            "text/plain": [
              "1"
            ]
          },
          "metadata": {
            "tags": []
          },
          "execution_count": 37
        }
      ]
    },
    {
      "cell_type": "code",
      "metadata": {
        "id": "UOxXTvuvxKeU",
        "colab_type": "code",
        "colab": {
          "base_uri": "https://localhost:8080/",
          "height": 34
        },
        "outputId": "35f9b378-f941-4361-abe0-e659d76be3ed"
      },
      "source": [
        "y_test[0]"
      ],
      "execution_count": 38,
      "outputs": [
        {
          "output_type": "execute_result",
          "data": {
            "text/plain": [
              "1"
            ]
          },
          "metadata": {
            "tags": []
          },
          "execution_count": 38
        }
      ]
    },
    {
      "cell_type": "code",
      "metadata": {
        "id": "bf7aFKbHxNIF",
        "colab_type": "code",
        "colab": {
          "base_uri": "https://localhost:8080/",
          "height": 34
        },
        "outputId": "dce557c8-533b-4d22-9238-6d90f735c41d"
      },
      "source": [
        "from sklearn.metrics import accuracy_score\n",
        "accuracy_score(y_test,y_pred)"
      ],
      "execution_count": 39,
      "outputs": [
        {
          "output_type": "execute_result",
          "data": {
            "text/plain": [
              "0.7377049180327869"
            ]
          },
          "metadata": {
            "tags": []
          },
          "execution_count": 39
        }
      ]
    },
    {
      "cell_type": "code",
      "metadata": {
        "id": "m0HH2PnKxWZF",
        "colab_type": "code",
        "colab": {}
      },
      "source": [
        "from keras.models import Sequential\n",
        "from keras.layers import Dense\n",
        "clf = Sequential()"
      ],
      "execution_count": 66,
      "outputs": []
    },
    {
      "cell_type": "code",
      "metadata": {
        "id": "GxDv2tGAzn04",
        "colab_type": "code",
        "colab": {}
      },
      "source": [
        "classifier = Sequential() \n",
        "classifier.add(Dense(activation = \"relu\", input_dim = 12,  \n",
        "                     units = 8, kernel_initializer = \"uniform\")) \n",
        "classifier.add(Dense(activation = \"relu\", units = 14,  \n",
        "                     kernel_initializer = \"uniform\")) \n",
        "classifier.add(Dense(activation = \"sigmoid\", units = 1,  \n",
        "                     kernel_initializer = \"uniform\")) \n",
        "classifier.compile(optimizer = 'adam' , loss = 'binary_crossentropy',  \n",
        "                   metrics = ['accuracy'] )"
      ],
      "execution_count": 69,
      "outputs": []
    },
    {
      "cell_type": "code",
      "metadata": {
        "id": "MuNXcG1F23kn",
        "colab_type": "code",
        "colab": {
          "base_uri": "https://localhost:8080/",
          "height": 1000
        },
        "outputId": "0d7b2e10-cc87-4f24-8bc2-65ca2e7fd5da"
      },
      "source": [
        "classifier.fit(x_train,x_test,epochs=100,batch_size=8)"
      ],
      "execution_count": 70,
      "outputs": [
        {
          "output_type": "stream",
          "text": [
            "Epoch 1/100\n",
            "242/242 [==============================] - 0s 1ms/step - loss: 0.6928 - accuracy: 0.6116\n",
            "Epoch 2/100\n",
            "242/242 [==============================] - 0s 160us/step - loss: 0.6879 - accuracy: 0.7645\n",
            "Epoch 3/100\n",
            "242/242 [==============================] - 0s 160us/step - loss: 0.6679 - accuracy: 0.8264\n",
            "Epoch 4/100\n",
            "242/242 [==============================] - 0s 161us/step - loss: 0.6153 - accuracy: 0.8512\n",
            "Epoch 5/100\n",
            "242/242 [==============================] - 0s 176us/step - loss: 0.5301 - accuracy: 0.8595\n",
            "Epoch 6/100\n",
            "242/242 [==============================] - 0s 160us/step - loss: 0.4425 - accuracy: 0.8554\n",
            "Epoch 7/100\n",
            "242/242 [==============================] - 0s 180us/step - loss: 0.3888 - accuracy: 0.8636\n",
            "Epoch 8/100\n",
            "242/242 [==============================] - 0s 176us/step - loss: 0.3629 - accuracy: 0.8595\n",
            "Epoch 9/100\n",
            "242/242 [==============================] - 0s 160us/step - loss: 0.3475 - accuracy: 0.8595\n",
            "Epoch 10/100\n",
            "242/242 [==============================] - 0s 152us/step - loss: 0.3390 - accuracy: 0.8554\n",
            "Epoch 11/100\n",
            "242/242 [==============================] - 0s 163us/step - loss: 0.3337 - accuracy: 0.8595\n",
            "Epoch 12/100\n",
            "242/242 [==============================] - 0s 158us/step - loss: 0.3310 - accuracy: 0.8595\n",
            "Epoch 13/100\n",
            "242/242 [==============================] - 0s 185us/step - loss: 0.3279 - accuracy: 0.8636\n",
            "Epoch 14/100\n",
            "242/242 [==============================] - 0s 156us/step - loss: 0.3254 - accuracy: 0.8554\n",
            "Epoch 15/100\n",
            "242/242 [==============================] - 0s 165us/step - loss: 0.3224 - accuracy: 0.8595\n",
            "Epoch 16/100\n",
            "242/242 [==============================] - 0s 150us/step - loss: 0.3211 - accuracy: 0.8595\n",
            "Epoch 17/100\n",
            "242/242 [==============================] - 0s 158us/step - loss: 0.3197 - accuracy: 0.8595\n",
            "Epoch 18/100\n",
            "242/242 [==============================] - 0s 158us/step - loss: 0.3165 - accuracy: 0.8678\n",
            "Epoch 19/100\n",
            "242/242 [==============================] - 0s 175us/step - loss: 0.3162 - accuracy: 0.8678\n",
            "Epoch 20/100\n",
            "242/242 [==============================] - 0s 164us/step - loss: 0.3147 - accuracy: 0.8719\n",
            "Epoch 21/100\n",
            "242/242 [==============================] - 0s 158us/step - loss: 0.3133 - accuracy: 0.8760\n",
            "Epoch 22/100\n",
            "242/242 [==============================] - 0s 162us/step - loss: 0.3119 - accuracy: 0.8760\n",
            "Epoch 23/100\n",
            "242/242 [==============================] - 0s 162us/step - loss: 0.3108 - accuracy: 0.8760\n",
            "Epoch 24/100\n",
            "242/242 [==============================] - 0s 156us/step - loss: 0.3101 - accuracy: 0.8760\n",
            "Epoch 25/100\n",
            "242/242 [==============================] - 0s 160us/step - loss: 0.3099 - accuracy: 0.8843\n",
            "Epoch 26/100\n",
            "242/242 [==============================] - 0s 156us/step - loss: 0.3074 - accuracy: 0.8760\n",
            "Epoch 27/100\n",
            "242/242 [==============================] - 0s 165us/step - loss: 0.3063 - accuracy: 0.8802\n",
            "Epoch 28/100\n",
            "242/242 [==============================] - 0s 167us/step - loss: 0.3049 - accuracy: 0.8843\n",
            "Epoch 29/100\n",
            "242/242 [==============================] - 0s 154us/step - loss: 0.3046 - accuracy: 0.8884\n",
            "Epoch 30/100\n",
            "242/242 [==============================] - 0s 184us/step - loss: 0.3031 - accuracy: 0.8884\n",
            "Epoch 31/100\n",
            "242/242 [==============================] - 0s 176us/step - loss: 0.3037 - accuracy: 0.8967\n",
            "Epoch 32/100\n",
            "242/242 [==============================] - 0s 158us/step - loss: 0.3021 - accuracy: 0.8884\n",
            "Epoch 33/100\n",
            "242/242 [==============================] - 0s 157us/step - loss: 0.2999 - accuracy: 0.8926\n",
            "Epoch 34/100\n",
            "242/242 [==============================] - 0s 151us/step - loss: 0.2994 - accuracy: 0.8926\n",
            "Epoch 35/100\n",
            "242/242 [==============================] - 0s 146us/step - loss: 0.2993 - accuracy: 0.8884\n",
            "Epoch 36/100\n",
            "242/242 [==============================] - 0s 163us/step - loss: 0.2970 - accuracy: 0.8967\n",
            "Epoch 37/100\n",
            "242/242 [==============================] - 0s 151us/step - loss: 0.2968 - accuracy: 0.8967\n",
            "Epoch 38/100\n",
            "242/242 [==============================] - 0s 152us/step - loss: 0.2959 - accuracy: 0.8926\n",
            "Epoch 39/100\n",
            "242/242 [==============================] - 0s 152us/step - loss: 0.2944 - accuracy: 0.8967\n",
            "Epoch 40/100\n",
            "242/242 [==============================] - 0s 144us/step - loss: 0.2928 - accuracy: 0.8967\n",
            "Epoch 41/100\n",
            "242/242 [==============================] - 0s 148us/step - loss: 0.2932 - accuracy: 0.8967\n",
            "Epoch 42/100\n",
            "242/242 [==============================] - 0s 156us/step - loss: 0.2923 - accuracy: 0.8884\n",
            "Epoch 43/100\n",
            "242/242 [==============================] - 0s 161us/step - loss: 0.2906 - accuracy: 0.9008\n",
            "Epoch 44/100\n",
            "242/242 [==============================] - 0s 154us/step - loss: 0.2901 - accuracy: 0.8926\n",
            "Epoch 45/100\n",
            "242/242 [==============================] - 0s 159us/step - loss: 0.2893 - accuracy: 0.8967\n",
            "Epoch 46/100\n",
            "242/242 [==============================] - 0s 158us/step - loss: 0.2892 - accuracy: 0.8967\n",
            "Epoch 47/100\n",
            "242/242 [==============================] - 0s 163us/step - loss: 0.2875 - accuracy: 0.9008\n",
            "Epoch 48/100\n",
            "242/242 [==============================] - 0s 188us/step - loss: 0.2872 - accuracy: 0.8967\n",
            "Epoch 49/100\n",
            "242/242 [==============================] - 0s 163us/step - loss: 0.2860 - accuracy: 0.8926\n",
            "Epoch 50/100\n",
            "242/242 [==============================] - 0s 166us/step - loss: 0.2863 - accuracy: 0.9008\n",
            "Epoch 51/100\n",
            "242/242 [==============================] - 0s 167us/step - loss: 0.2842 - accuracy: 0.9008\n",
            "Epoch 52/100\n",
            "242/242 [==============================] - 0s 167us/step - loss: 0.2844 - accuracy: 0.8926\n",
            "Epoch 53/100\n",
            "242/242 [==============================] - 0s 185us/step - loss: 0.2839 - accuracy: 0.9008\n",
            "Epoch 54/100\n",
            "242/242 [==============================] - 0s 174us/step - loss: 0.2820 - accuracy: 0.8967\n",
            "Epoch 55/100\n",
            "242/242 [==============================] - 0s 187us/step - loss: 0.2821 - accuracy: 0.8926\n",
            "Epoch 56/100\n",
            "242/242 [==============================] - 0s 171us/step - loss: 0.2810 - accuracy: 0.8926\n",
            "Epoch 57/100\n",
            "242/242 [==============================] - 0s 160us/step - loss: 0.2796 - accuracy: 0.8926\n",
            "Epoch 58/100\n",
            "242/242 [==============================] - 0s 165us/step - loss: 0.2791 - accuracy: 0.9008\n",
            "Epoch 59/100\n",
            "242/242 [==============================] - 0s 166us/step - loss: 0.2778 - accuracy: 0.8967\n",
            "Epoch 60/100\n",
            "242/242 [==============================] - 0s 155us/step - loss: 0.2775 - accuracy: 0.8967\n",
            "Epoch 61/100\n",
            "242/242 [==============================] - 0s 166us/step - loss: 0.2763 - accuracy: 0.9008\n",
            "Epoch 62/100\n",
            "242/242 [==============================] - 0s 162us/step - loss: 0.2763 - accuracy: 0.8967\n",
            "Epoch 63/100\n",
            "242/242 [==============================] - 0s 156us/step - loss: 0.2768 - accuracy: 0.9008\n",
            "Epoch 64/100\n",
            "242/242 [==============================] - 0s 152us/step - loss: 0.2756 - accuracy: 0.9008\n",
            "Epoch 65/100\n",
            "242/242 [==============================] - 0s 155us/step - loss: 0.2744 - accuracy: 0.8967\n",
            "Epoch 66/100\n",
            "242/242 [==============================] - 0s 161us/step - loss: 0.2752 - accuracy: 0.9008\n",
            "Epoch 67/100\n",
            "242/242 [==============================] - 0s 169us/step - loss: 0.2725 - accuracy: 0.9008\n",
            "Epoch 68/100\n",
            "242/242 [==============================] - 0s 170us/step - loss: 0.2714 - accuracy: 0.9008\n",
            "Epoch 69/100\n",
            "242/242 [==============================] - 0s 157us/step - loss: 0.2710 - accuracy: 0.9008\n",
            "Epoch 70/100\n",
            "242/242 [==============================] - 0s 160us/step - loss: 0.2697 - accuracy: 0.9008\n",
            "Epoch 71/100\n",
            "242/242 [==============================] - 0s 157us/step - loss: 0.2688 - accuracy: 0.9008\n",
            "Epoch 72/100\n",
            "242/242 [==============================] - 0s 181us/step - loss: 0.2688 - accuracy: 0.9008\n",
            "Epoch 73/100\n",
            "242/242 [==============================] - 0s 150us/step - loss: 0.2681 - accuracy: 0.9008\n",
            "Epoch 74/100\n",
            "242/242 [==============================] - 0s 155us/step - loss: 0.2663 - accuracy: 0.9008\n",
            "Epoch 75/100\n",
            "242/242 [==============================] - 0s 177us/step - loss: 0.2657 - accuracy: 0.9008\n",
            "Epoch 76/100\n",
            "242/242 [==============================] - 0s 153us/step - loss: 0.2643 - accuracy: 0.9008\n",
            "Epoch 77/100\n",
            "242/242 [==============================] - 0s 150us/step - loss: 0.2637 - accuracy: 0.9008\n",
            "Epoch 78/100\n",
            "242/242 [==============================] - 0s 158us/step - loss: 0.2623 - accuracy: 0.9008\n",
            "Epoch 79/100\n",
            "242/242 [==============================] - 0s 154us/step - loss: 0.2622 - accuracy: 0.9008\n",
            "Epoch 80/100\n",
            "242/242 [==============================] - 0s 190us/step - loss: 0.2612 - accuracy: 0.9008\n",
            "Epoch 81/100\n",
            "242/242 [==============================] - 0s 151us/step - loss: 0.2603 - accuracy: 0.9008\n",
            "Epoch 82/100\n",
            "242/242 [==============================] - 0s 152us/step - loss: 0.2588 - accuracy: 0.9008\n",
            "Epoch 83/100\n",
            "242/242 [==============================] - 0s 162us/step - loss: 0.2580 - accuracy: 0.9050\n",
            "Epoch 84/100\n",
            "242/242 [==============================] - 0s 151us/step - loss: 0.2579 - accuracy: 0.9050\n",
            "Epoch 85/100\n",
            "242/242 [==============================] - 0s 157us/step - loss: 0.2570 - accuracy: 0.9050\n",
            "Epoch 86/100\n",
            "242/242 [==============================] - 0s 143us/step - loss: 0.2568 - accuracy: 0.9091\n",
            "Epoch 87/100\n",
            "242/242 [==============================] - 0s 155us/step - loss: 0.2555 - accuracy: 0.9008\n",
            "Epoch 88/100\n",
            "242/242 [==============================] - 0s 151us/step - loss: 0.2553 - accuracy: 0.9050\n",
            "Epoch 89/100\n",
            "242/242 [==============================] - 0s 151us/step - loss: 0.2537 - accuracy: 0.9091\n",
            "Epoch 90/100\n",
            "242/242 [==============================] - 0s 157us/step - loss: 0.2530 - accuracy: 0.9091\n",
            "Epoch 91/100\n",
            "242/242 [==============================] - 0s 168us/step - loss: 0.2520 - accuracy: 0.9091\n",
            "Epoch 92/100\n",
            "242/242 [==============================] - 0s 169us/step - loss: 0.2511 - accuracy: 0.9091\n",
            "Epoch 93/100\n",
            "242/242 [==============================] - 0s 180us/step - loss: 0.2505 - accuracy: 0.9091\n",
            "Epoch 94/100\n",
            "242/242 [==============================] - 0s 185us/step - loss: 0.2496 - accuracy: 0.9091\n",
            "Epoch 95/100\n",
            "242/242 [==============================] - 0s 165us/step - loss: 0.2498 - accuracy: 0.9091\n",
            "Epoch 96/100\n",
            "242/242 [==============================] - 0s 154us/step - loss: 0.2479 - accuracy: 0.9091\n",
            "Epoch 97/100\n",
            "242/242 [==============================] - 0s 151us/step - loss: 0.2471 - accuracy: 0.9091\n",
            "Epoch 98/100\n",
            "242/242 [==============================] - 0s 144us/step - loss: 0.2479 - accuracy: 0.9091\n",
            "Epoch 99/100\n",
            "242/242 [==============================] - 0s 158us/step - loss: 0.2443 - accuracy: 0.9091\n",
            "Epoch 100/100\n",
            "242/242 [==============================] - 0s 158us/step - loss: 0.2445 - accuracy: 0.9132\n"
          ],
          "name": "stdout"
        },
        {
          "output_type": "execute_result",
          "data": {
            "text/plain": [
              "<keras.callbacks.callbacks.History at 0x7f7190c882b0>"
            ]
          },
          "metadata": {
            "tags": []
          },
          "execution_count": 70
        }
      ]
    },
    {
      "cell_type": "code",
      "metadata": {
        "id": "mAc-vpBN3MCW",
        "colab_type": "code",
        "colab": {}
      },
      "source": [
        "predictor = classifier.predict(y_train)"
      ],
      "execution_count": 71,
      "outputs": []
    },
    {
      "cell_type": "code",
      "metadata": {
        "id": "6zOvPiqT4NiD",
        "colab_type": "code",
        "colab": {
          "base_uri": "https://localhost:8080/",
          "height": 34
        },
        "outputId": "01353f81-0447-4a8e-e729-a18ab0f666fd"
      },
      "source": [
        "predictor[10]"
      ],
      "execution_count": 74,
      "outputs": [
        {
          "output_type": "execute_result",
          "data": {
            "text/plain": [
              "array([0.9812441], dtype=float32)"
            ]
          },
          "metadata": {
            "tags": []
          },
          "execution_count": 74
        }
      ]
    },
    {
      "cell_type": "code",
      "metadata": {
        "id": "9sXERUGm4PG3",
        "colab_type": "code",
        "colab": {
          "base_uri": "https://localhost:8080/",
          "height": 34
        },
        "outputId": "bfe091a0-dfe8-4274-ef67-5c41239ee7e8"
      },
      "source": [
        "y_test[10]"
      ],
      "execution_count": 75,
      "outputs": [
        {
          "output_type": "execute_result",
          "data": {
            "text/plain": [
              "1"
            ]
          },
          "metadata": {
            "tags": []
          },
          "execution_count": 75
        }
      ]
    },
    {
      "cell_type": "code",
      "metadata": {
        "id": "qxZ2Jle04ST3",
        "colab_type": "code",
        "colab": {
          "base_uri": "https://localhost:8080/",
          "height": 153
        },
        "outputId": "1ac2f7f2-0ecd-4ea2-f02a-71c597dd84e5"
      },
      "source": [
        "from keras.metrics import accuracy\n",
        "accuracy(y_test,predictor)"
      ],
      "execution_count": 76,
      "outputs": [
        {
          "output_type": "execute_result",
          "data": {
            "text/plain": [
              "<tf.Tensor: shape=(61, 61), dtype=float32, numpy=\n",
              "array([[0., 0., 0., ..., 0., 0., 0.],\n",
              "       [0., 0., 0., ..., 0., 0., 0.],\n",
              "       [0., 0., 0., ..., 0., 0., 0.],\n",
              "       ...,\n",
              "       [0., 0., 0., ..., 0., 0., 0.],\n",
              "       [0., 0., 0., ..., 0., 0., 0.],\n",
              "       [0., 0., 0., ..., 0., 0., 0.]], dtype=float32)>"
            ]
          },
          "metadata": {
            "tags": []
          },
          "execution_count": 76
        }
      ]
    },
    {
      "cell_type": "code",
      "metadata": {
        "id": "j0CfTZg14wMi",
        "colab_type": "code",
        "colab": {
          "base_uri": "https://localhost:8080/",
          "height": 51
        },
        "outputId": "e34e9bdb-8442-4e06-cb4e-c8380dba02ed"
      },
      "source": [
        "classifier.evaluate(y_train,y_test)"
      ],
      "execution_count": 78,
      "outputs": [
        {
          "output_type": "stream",
          "text": [
            "61/61 [==============================] - 0s 376us/step\n"
          ],
          "name": "stdout"
        },
        {
          "output_type": "execute_result",
          "data": {
            "text/plain": [
              "[0.4095600604033861, 0.8852459192276001]"
            ]
          },
          "metadata": {
            "tags": []
          },
          "execution_count": 78
        }
      ]
    },
    {
      "cell_type": "code",
      "metadata": {
        "id": "DFNEz6CE5TPw",
        "colab_type": "code",
        "colab": {}
      },
      "source": [
        ""
      ],
      "execution_count": null,
      "outputs": []
    }
  ]
}